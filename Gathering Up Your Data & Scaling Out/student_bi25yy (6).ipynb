{
 "cells": [
  {
   "cell_type": "code",
   "execution_count": null,
   "metadata": {
    "id": "hAXxxlqPz9Be"
   },
   "outputs": [],
   "source": [
    "# importing necessary standard libraries\n",
    "import csv\n",
    "import json\n",
    "import xml.etree.ElementTree as ET"
   ]
  },
  {
   "cell_type": "code",
   "execution_count": null,
   "metadata": {
    "id": "NXuXlQ0F1Ub1"
   },
   "outputs": [],
   "source": [
    "#Read data from user_data.csv\n",
    "with open('./files/user_data.csv') as csv_file:\n",
    "    csv_reader = csv.DictReader(csv_file)\n",
    "    csv_data = [row for row in csv_reader]"
   ]
  },
  {
   "cell_type": "code",
   "execution_count": null,
   "metadata": {
    "id": "1qVNWLuR1Wr0"
   },
   "outputs": [],
   "source": [
    "#Read data from user_data.json\n",
    "with open('user_data.json') as json_file:\n",
    "    json_data = json.load(json_file)"
   ]
  },
  {
   "cell_type": "code",
   "execution_count": null,
   "metadata": {
    "id": "0hmHx4eZ1aVl"
   },
   "outputs": [],
   "source": [
    "#Read data from user_data.xml\n",
    "import xml.etree.ElementTree as ET\n",
    "xml_data = []\n",
    "tree = ET.parse('./files/user_data.xml')\n",
    "root = tree.getroot()\n",
    "for child in root:\n",
    "    record = {}\n",
    "    for item in child.attrib.items():\n",
    "        record[item[0]] = item[1]\n",
    "    xml_data.append(record)"
   ]
  },
  {
   "cell_type": "code",
   "execution_count": null,
   "metadata": {
    "colab": {
     "base_uri": "https://localhost:8080/"
    },
    "id": "MiAooG60Evl5",
    "outputId": "3c27d8a4-7598-4fbc-ffed-f53b8f43ad86"
   },
   "outputs": [],
   "source": [
    "import re\n",
    "\n",
    "with open(\"./files/user_data.txt\", \"r\") as file:\n",
    "    text_data = file.read()\n",
    "\n",
    "customer_names = re.findall(r\"[A-Z][a-z]+ [A-Z][a-z]+\", text_data)\n",
    "print(customer_names)\n"
   ]
  },
  {
   "cell_type": "markdown",
   "metadata": {
    "id": "qq7iZYS34ah7"
   },
   "source": [
    "The data in the text file is not in a structured format like the data in the CSV, JSON and XML files. It appears to be unstructured text data that contains different types of messages, such as customer complaints, employee promotions and birthday wishes. These messages do not contain any information that can be directly combined with the data from the other files.\n",
    "It's unclear how this text data is related to the structured data you've provided earlier. If you want to combine this text data with the structured data, you would need to extract meaningful information from these messages and map it to the appropriate fields in the structured data."
   ]
  },
  {
   "cell_type": "markdown",
   "metadata": {},
   "source": [
    "Some of the customer names are mentioned in the text data you provided. For example, \"Shane Chambers\" and \"Suzanne Wright\" are mentioned in the text data. Depending on the format of the text data, you might be able to extract customer names using regular expressions or text processing techniques.\n",
    "If the format of the text data is consistent and customer names are always mentioned in a certain format, you could extract the customer names using regular expressions or string manipulation.\n",
    "However, if the format of the text data is inconsistent or customer names are not mentioned in a consistent format, it might be more challenging to extract customer names.\n",
    "It's also possible that the text data is not related to the structured data, and the customer names are not mentioned in the text data."
   ]
  },
  {
   "cell_type": "markdown",
   "metadata": {
    "id": "S7ifN4g44jHH"
   },
   "source": [
    "## So at the end, I concluded not to add the data from the user_data.txt because it just contained the un-relative data to what was present in the other files."
   ]
  },
  {
   "cell_type": "code",
   "execution_count": null,
   "metadata": {
    "id": "8oLZpbwUI8N6"
   },
   "outputs": [],
   "source": [
    "# combining data from multiple sources into a single cohesive record for each customer, allowing for easier analysis and management of the data.\n",
    "combined_data = []\n",
    "for csv_record in csv_data:\n",
    "    for json_record in json_data:\n",
    "        if csv_record['First Name'] == json_record['firstName'] and csv_record['Second Name'] == json_record['lastName']:\n",
    "            combined_record = csv_record.copy()\n",
    "            combined_record.update(json_record)\n",
    "            for xml_record in xml_data:\n",
    "                if csv_record['First Name'] == xml_record['firstName'] and csv_record['Second Name'] == xml_record['lastName']:\n",
    "                    combined_record.update(xml_record)\n",
    "            combined_data.append(combined_record)"
   ]
  },
  {
   "cell_type": "code",
   "execution_count": null,
   "metadata": {
    "id": "J8lHNLx6LPEQ"
   },
   "outputs": [],
   "source": [
    "# deleting inconsistent and duplicate data\n",
    "for record in combined_data:\n",
    "    del record['firstName']\n",
    "    del record['lastName']\n",
    "    del record['sex']\n",
    "    del record['age']"
   ]
  },
  {
   "cell_type": "code",
   "execution_count": null,
   "metadata": {
    "colab": {
     "base_uri": "https://localhost:8080/"
    },
    "id": "SF5wBXIsI-UL",
    "outputId": "0173e1a5-aba4-42e0-f5f9-1ca7cb8f866a"
   },
   "outputs": [],
   "source": [
    "combined_data"
   ]
  },
  {
   "cell_type": "code",
   "execution_count": null,
   "metadata": {
    "colab": {
     "base_uri": "https://localhost:8080/"
    },
    "id": "xaS8zZ2WJvjQ",
    "outputId": "510ed42a-54a2-4875-b08f-cf57cb7df4c1"
   },
   "outputs": [],
   "source": [
    "# install Pony\n",
    "!pip install pony"
   ]
  },
  {
   "cell_type": "code",
   "execution_count": null,
   "metadata": {
    "colab": {
     "base_uri": "https://localhost:8080/"
    },
    "id": "VkA9p2_7Vmsv",
    "outputId": "a8e20f87-e7e7-4784-8471-27a453c2b0a6"
   },
   "outputs": [],
   "source": [
    "!pip install pymysql"
   ]
  },
  {
   "cell_type": "code",
   "execution_count": null,
   "metadata": {
    "id": "7NNWtbnYiCjZ"
   },
   "outputs": [],
   "source": [
    "# Importing the pony.orm library\n",
    "from pony.orm import *\n",
    "# Initializing the database object\n",
    "db = Database()"
   ]
  },
  {
   "cell_type": "code",
   "execution_count": null,
   "metadata": {
    "id": "1_xgnkoBiJyW"
   },
   "outputs": [],
   "source": [
    "# Define the CombinedData class as an entity in the database\n",
    "class Student_bi25yy(db.Entity):\n",
    "  # # Define required fields for the CombinedData entity\n",
    "    firstName = Required(str)\n",
    "    lastName = Required(str)\n",
    "    age = Required(int)\n",
    "    vehicleMake = Required(str)\n",
    "    vehicleModel = Required(str)\n",
    "    vehicleYear = Required(str)\n",
    "    vehicleType = Required(str)\n",
    "    iban = Required(str)\n",
    "    creditCardNumber = Required(str)\n",
    "    creditCardSecurityCode = Required(str)\n",
    "    creditCardStartDate = Required(str)\n",
    "    creditCardEndDate = Required(str)\n",
    "    addressMain = Required(str)\n",
    "    addressCity = Required(str)\n",
    "    addressPostcode = Required(str)\n",
    "    retired = Required(bool)\n",
    "    dependants = Required(int)\n",
    "    maritalStatus = Required(str)\n",
    "    salary = Optional(int)\n",
    "    pension = Optional(int)\n",
    "    company = Optional(str)\n",
    "    commuteDistance = Optional(float)\n",
    "# The above code defines the class CombinedData as an ORM entity that can be used to interact with the database.\n",
    "# The fields defined in the class are used to define the table and the columns in the database.\n",
    "# The fields are defined as required or optional, which is used to enforce the validation of the data that is stored in the table.\n",
    "# The class is also used to define the data type of each column, which is used to enforce the validation of the data that is stored in the table."
   ]
  },
  {
   "cell_type": "code",
   "execution_count": null,
   "metadata": {
    "id": "YgWNpkELiNtO"
   },
   "outputs": [],
   "source": [
    "# This code binds the database to the sqlite provider, specifying the filename and location for the database file.\n",
    "# The 'create_db' parameter is set to True to create the database file if it does not already exist.\n",
    "# The generate_mapping function is then called, with the create_tables parameter set to True to create the tables in the database if they do not already exist.\n",
    "db.bind(provider='mysql', host='europa.ashley.work', user='student_bi25yy', passwd='iE93F2@8EhM@1zhD&u9M@K', db='student_bi25yy')\n",
    "db.generate_mapping(create_tables=True)"
   ]
  },
  {
   "cell_type": "code",
   "execution_count": null,
   "metadata": {
    "colab": {
     "base_uri": "https://localhost:8080/"
    },
    "id": "yAKfs2MXigKG",
    "outputId": "5fb5893c-245f-4f57-9321-44d3298654e3"
   },
   "outputs": [],
   "source": [
    "with db_session:\n",
    "  for record in combined_data:\n",
    "    try:\n",
    "      Student_bi25yy(firstName = record['First Name'],\n",
    "                   lastName = record['Second Name'],\n",
    "                   age = int(record['Age (Years)']),\n",
    "                   vehicleMake = record['Vehicle Make'],\n",
    "                   vehicleModel = record['Vehicle Model'],\n",
    "                   vehicleYear = record['Vehicle Year'],\n",
    "                   vehicleType = record['Vehicle Type'],\n",
    "                   iban = record['iban'],\n",
    "                   creditCardNumber = record['credit_card_number'],\n",
    "                   creditCardSecurityCode = record['credit_card_security_code'],\n",
    "                   creditCardStartDate = record['credit_card_start_date'],\n",
    "                   creditCardEndDate = record['credit_card_end_date'],\n",
    "                   addressMain = record['address_main'],\n",
    "                   addressCity = record['address_city'],\n",
    "                   addressPostcode = record['address_postcode'],\n",
    "                   retired = record['retired'],\n",
    "                   dependants = int(record['dependants'])\n",
    "                   if record['dependants']\n",
    "                   else None,\n",
    "                   maritalStatus = record['marital_status'],\n",
    "                   salary = int(record['salary'])\n",
    "                   if record['salary']\n",
    "                   else None,\n",
    "                   pension = int(record['pension'])\n",
    "                   if record['pension']\n",
    "                   else None,\n",
    "                   company = record['company'],\n",
    "                   commuteDistance = float(record['commute_distance'])\n",
    "                   if record['commute_distance']\n",
    "                   else None)\n",
    "    except ValueError:\n",
    "      print(f\"Invalid value for record: {record}\")"
   ]
  },
  {
   "cell_type": "code",
   "execution_count": null,
   "metadata": {
    "colab": {
     "base_uri": "https://localhost:8080/"
    },
    "id": "rd8piLwulPuR",
    "outputId": "9ba878f6-00ad-4f9a-a97f-c847f1587728"
   },
   "outputs": [],
   "source": [
    "with db_session:\n",
    "    # retrieve the first 5 records in the CombinedData table\n",
    "    records = select(r for r in Student_bi25yy)[:5]\n",
    "    for record in records:\n",
    "        print(record.to_dict())"
   ]
  },
  {
   "cell_type": "code",
   "execution_count": null,
   "metadata": {
    "id": "7YXLDetPX2_i"
   },
   "outputs": [],
   "source": [
    "commit()"
   ]
  }
 ],
 "metadata": {
  "colab": {
   "provenance": []
  },
  "kernelspec": {
   "display_name": "Python 3 (ipykernel)",
   "language": "python",
   "name": "python3"
  },
  "language_info": {
   "codemirror_mode": {
    "name": "ipython",
    "version": 3
   },
   "file_extension": ".py",
   "mimetype": "text/x-python",
   "name": "python",
   "nbconvert_exporter": "python",
   "pygments_lexer": "ipython3",
   "version": "3.9.12"
  }
 },
 "nbformat": 4,
 "nbformat_minor": 1
}
